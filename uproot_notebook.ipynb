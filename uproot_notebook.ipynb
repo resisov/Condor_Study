{
  "nbformat": 4,
  "nbformat_minor": 0,
  "metadata": {
    "colab": {
      "name": "uproot_modern.ipynb",
      "provenance": []
    },
    "kernelspec": {
      "name": "python3",
      "display_name": "Python 3"
    }
  },
  "cells": [
    {
      "cell_type": "code",
      "metadata": {
        "colab": {
          "base_uri": "https://localhost:8080/"
        },
        "id": "vrQwMkMFpgmc",
        "outputId": "61f85cd5-8b05-4210-f6f2-d5e3ffba25d3"
      },
      "source": [
        "!pip install uproot3\r\n",
        "!pip install uproot_methods\r\n",
        "!pip install mplhep\r\n",
        "!pip install awkward"
      ],
      "execution_count": 1,
      "outputs": [
        {
          "output_type": "stream",
          "text": [
            "Collecting uproot3\n",
            "\u001b[?25l  Downloading https://files.pythonhosted.org/packages/ae/30/75d3ecda0d09f5aed7588f545798bea92e88f8f241218d9f2df612600df8/uproot3-3.14.2-py3-none-any.whl (117kB)\n",
            "\r\u001b[K     |██▉                             | 10kB 13.1MB/s eta 0:00:01\r\u001b[K     |█████▋                          | 20kB 18.0MB/s eta 0:00:01\r\u001b[K     |████████▍                       | 30kB 11.3MB/s eta 0:00:01\r\u001b[K     |███████████▏                    | 40kB 8.9MB/s eta 0:00:01\r\u001b[K     |██████████████                  | 51kB 4.4MB/s eta 0:00:01\r\u001b[K     |████████████████▊               | 61kB 4.6MB/s eta 0:00:01\r\u001b[K     |███████████████████▌            | 71kB 5.0MB/s eta 0:00:01\r\u001b[K     |██████████████████████▎         | 81kB 5.2MB/s eta 0:00:01\r\u001b[K     |█████████████████████████       | 92kB 5.5MB/s eta 0:00:01\r\u001b[K     |███████████████████████████▉    | 102kB 5.8MB/s eta 0:00:01\r\u001b[K     |██████████████████████████████▋ | 112kB 5.8MB/s eta 0:00:01\r\u001b[K     |████████████████████████████████| 122kB 5.8MB/s \n",
            "\u001b[?25hRequirement already satisfied: numpy>=1.13.1 in /usr/local/lib/python3.6/dist-packages (from uproot3) (1.19.4)\n",
            "Collecting uproot3-methods\n",
            "  Downloading https://files.pythonhosted.org/packages/b7/bc/0cc6e815361218923dc27e8f511036d6d96ab366ea25994a89ac9ac9ba6f/uproot3_methods-0.10.0-py3-none-any.whl\n",
            "Requirement already satisfied: cachetools in /usr/local/lib/python3.6/dist-packages (from uproot3) (4.2.0)\n",
            "Collecting awkward0\n",
            "\u001b[?25l  Downloading https://files.pythonhosted.org/packages/93/74/90e008f7082103fe15e90f7b3de5226053baa9f360ef1cce2eb2184e5c98/awkward0-0.15.2-py3-none-any.whl (87kB)\n",
            "\u001b[K     |████████████████████████████████| 92kB 7.8MB/s \n",
            "\u001b[?25hInstalling collected packages: awkward0, uproot3-methods, uproot3\n",
            "Successfully installed awkward0-0.15.2 uproot3-3.14.2 uproot3-methods-0.10.0\n",
            "Collecting uproot_methods\n",
            "  Downloading https://files.pythonhosted.org/packages/b8/30/adff74a02641901dfaad01e8ad66abcf43e94fc72661ef1ee4e55a5162b5/uproot_methods-0.9.2-py3-none-any.whl\n",
            "Requirement already satisfied: numpy>=1.13.1 in /usr/local/lib/python3.6/dist-packages (from uproot_methods) (1.19.4)\n",
            "Collecting awkward<1.0.0\n",
            "\u001b[?25l  Downloading https://files.pythonhosted.org/packages/4b/ca/322dd25b102b03a0d8fefba037358a716e7ba2117b65839479071445a617/awkward-0.14.0-py2.py3-none-any.whl (87kB)\n",
            "\u001b[K     |████████████████████████████████| 92kB 2.9MB/s \n",
            "\u001b[?25hInstalling collected packages: awkward, uproot-methods\n",
            "Successfully installed awkward-0.14.0 uproot-methods-0.9.2\n",
            "Collecting mplhep\n",
            "\u001b[?25l  Downloading https://files.pythonhosted.org/packages/f1/9f/47cf8320fdf04d60f8698adc2658bd2a646092968958cd2e3800f404244d/mplhep-0.2.9-py3-none-any.whl (5.4MB)\n",
            "\u001b[K     |████████████████████████████████| 5.4MB 5.4MB/s \n",
            "\u001b[?25hRequirement already satisfied: packaging in /usr/local/lib/python3.6/dist-packages (from mplhep) (20.8)\n",
            "Requirement already satisfied: matplotlib>=3.1 in /usr/local/lib/python3.6/dist-packages (from mplhep) (3.2.2)\n",
            "Requirement already satisfied: numpy>=1.16.0 in /usr/local/lib/python3.6/dist-packages (from mplhep) (1.19.4)\n",
            "Requirement already satisfied: scipy>=1.1.0 in /usr/local/lib/python3.6/dist-packages (from mplhep) (1.4.1)\n",
            "Requirement already satisfied: requests~=2.21 in /usr/local/lib/python3.6/dist-packages (from mplhep) (2.23.0)\n",
            "Requirement already satisfied: pyparsing>=2.0.2 in /usr/local/lib/python3.6/dist-packages (from packaging->mplhep) (2.4.7)\n",
            "Requirement already satisfied: kiwisolver>=1.0.1 in /usr/local/lib/python3.6/dist-packages (from matplotlib>=3.1->mplhep) (1.3.1)\n",
            "Requirement already satisfied: cycler>=0.10 in /usr/local/lib/python3.6/dist-packages (from matplotlib>=3.1->mplhep) (0.10.0)\n",
            "Requirement already satisfied: python-dateutil>=2.1 in /usr/local/lib/python3.6/dist-packages (from matplotlib>=3.1->mplhep) (2.8.1)\n",
            "Requirement already satisfied: idna<3,>=2.5 in /usr/local/lib/python3.6/dist-packages (from requests~=2.21->mplhep) (2.10)\n",
            "Requirement already satisfied: chardet<4,>=3.0.2 in /usr/local/lib/python3.6/dist-packages (from requests~=2.21->mplhep) (3.0.4)\n",
            "Requirement already satisfied: urllib3!=1.25.0,!=1.25.1,<1.26,>=1.21.1 in /usr/local/lib/python3.6/dist-packages (from requests~=2.21->mplhep) (1.24.3)\n",
            "Requirement already satisfied: certifi>=2017.4.17 in /usr/local/lib/python3.6/dist-packages (from requests~=2.21->mplhep) (2020.12.5)\n",
            "Requirement already satisfied: six in /usr/local/lib/python3.6/dist-packages (from cycler>=0.10->matplotlib>=3.1->mplhep) (1.15.0)\n",
            "Installing collected packages: mplhep\n",
            "Successfully installed mplhep-0.2.9\n",
            "Requirement already satisfied: awkward in /usr/local/lib/python3.6/dist-packages (0.14.0)\n",
            "Requirement already satisfied: numpy>=1.13.1 in /usr/local/lib/python3.6/dist-packages (from awkward) (1.19.4)\n"
          ],
          "name": "stdout"
        }
      ]
    },
    {
      "cell_type": "code",
      "metadata": {
        "colab": {
          "base_uri": "https://localhost:8080/"
        },
        "id": "3VSAfGf8_BFt",
        "outputId": "578f068c-4e84-4a9a-e160-6041b62b8f63"
      },
      "source": [
        "from google.colab import drive\r\n",
        "drive.mount('/content/drive')"
      ],
      "execution_count": 2,
      "outputs": [
        {
          "output_type": "stream",
          "text": [
            "Mounted at /content/drive\n"
          ],
          "name": "stdout"
        }
      ]
    },
    {
      "cell_type": "code",
      "metadata": {
        "id": "5J_rb_m8pl4P"
      },
      "source": [
        "import uproot3 as ROOT\r\n",
        "import uproot_methods as upm\r\n",
        "import numpy as np\r\n",
        "import awkward as ak\r\n",
        "import matplotlib.pyplot as plt\r\n",
        "from matplotlib import rc\r\n",
        "from matplotlib import font_manager\r\n",
        "import mplhep as hep\r\n"
      ],
      "execution_count": 4,
      "outputs": []
    },
    {
      "cell_type": "code",
      "metadata": {
        "colab": {
          "base_uri": "https://localhost:8080/"
        },
        "id": "Nuuwtq1PqNET",
        "outputId": "d2b31366-8c41-459b-bd64-b9483b94950f"
      },
      "source": [
        "! ls /content/drive/MyDrive/Event_Sample/"
      ],
      "execution_count": 5,
      "outputs": [
        {
          "output_type": "stream",
          "text": [
            "BKG_Drellyan.root  DM_10GeV_scalar_d.root\n"
          ],
          "name": "stdout"
        }
      ]
    },
    {
      "cell_type": "code",
      "metadata": {
        "id": "-pFGeO7CqQ_0"
      },
      "source": [
        "## 리딩 투젯 마스크\r\n",
        "def jet_ht_cut(data,nb):\r\n",
        "  globals()['jet_mask{}'.format(nb)] = np.zeros(data.shape)\r\n",
        "  for i in range(0,len(data)):\r\n",
        "    if data.counts[i] >= 2:\r\n",
        "     globals()['jet_mask{}'.format(nb)][i] = data[i,0] + data[i,1]\r\n",
        "\r\n",
        "## 리딩 투렙 마스크\r\n",
        "def nb_lep(data1,data2,nb):\r\n",
        "  globals()['lep_mask{}'.format(nb)] = np.zeros(data1.shape)\r\n",
        "  for i in range(0,len(data1)):\r\n",
        "    if (data1.counts[i] + data2.counts[i] >= 2):\r\n",
        "      if (data1.counts[i] == 0):\r\n",
        "        globals()['lep_mask{}'.format(nb)][i] = data2[i,0] + data2[i,1]\r\n",
        "      elif (data2.counts[i] == 0):\r\n",
        "        globals()['lep_mask{}'.format(nb)][i] = data1[i,0] + data1[i,1]\r\n",
        "      else:\r\n",
        "        globals()['lep_mask{}'.format(nb)][i] = data1[i,0] + data2[i,0]\r\n"
      ],
      "execution_count": 6,
      "outputs": []
    },
    {
      "cell_type": "code",
      "metadata": {
        "id": "UivetvakqfMU"
      },
      "source": [
        "dat1 = ROOT.open(\"/content/drive/MyDrive/Event_Sample/BKG_Drellyan.root\")[\"Delphes\"]\r\n",
        "dat2 = ROOT.open(\"/content/drive/MyDrive/Event_Sample/DM_10GeV_scalar_d.root\")[\"Delphes\"]"
      ],
      "execution_count": 7,
      "outputs": []
    },
    {
      "cell_type": "code",
      "metadata": {
        "id": "hAyWdn0Uqrns"
      },
      "source": [
        "MET1_arr, Elec1_PT_arr, Muon1_PT_arr, Jet1_PT_arr = dat1.arrays(['MissingET.MET', 'Electron.PT', 'Muon.PT', 'Jet.PT'],outputtype=tuple)\r\n",
        "MET2_arr, Elec2_PT_arr, Muon2_PT_arr, Jet2_PT_arr = dat2.arrays(['MissingET.MET', 'Electron.PT', 'Muon.PT', 'Jet.PT'],outputtype=tuple)\r\n"
      ],
      "execution_count": 8,
      "outputs": []
    },
    {
      "cell_type": "code",
      "metadata": {
        "id": "VVeNrmYls1L8"
      },
      "source": [
        "## 마스크 조건(제트)\r\n",
        "jet_ht_cut(Jet1_PT_arr,1)\r\n",
        "jet_ht_cut(Jet2_PT_arr,2)\r\n",
        "jet_mask1 = jet_mask1 > 50\r\n",
        "jet_mask2 = jet_mask2 > 50"
      ],
      "execution_count": 9,
      "outputs": []
    },
    {
      "cell_type": "code",
      "metadata": {
        "id": "TQ7PMrT8FqeL"
      },
      "source": [
        "## 마스크 조건(렙톤)\r\n",
        "nb_lep(Elec1_PT_arr, Muon1_PT_arr,1)\r\n",
        "nb_lep(Elec2_PT_arr, Muon2_PT_arr,2)\r\n",
        "lep_mask1 = lep_mask1 > 120\r\n",
        "lep_mask2 = lep_mask2 > 120"
      ],
      "execution_count": 10,
      "outputs": []
    },
    {
      "cell_type": "code",
      "metadata": {
        "id": "Bqpb0iGhfaZy"
      },
      "source": [
        "## 코로나가 발생하였습니다. 마스크를 써주세요\r\n",
        "MET_dy = MET1_arr[jet_mask1 & lep_mask1].flatten()\r\n",
        "MET_sg = MET2_arr[jet_mask2 & lep_mask2].flatten()"
      ],
      "execution_count": 11,
      "outputs": []
    },
    {
      "cell_type": "code",
      "metadata": {
        "id": "J0ZuoV4EiANC"
      },
      "source": [
        "## 노말라이즈\r\n",
        "x_dy = 1013.0\r\n",
        "x_sg = 0.0002683\r\n",
        "lumi = 150000\r\n",
        "tot_evt = 10000.0\r\n",
        "\r\n",
        "wght_dy = np.ones(MET_dy.shape) * x_dy * lumi/ tot_evt\r\n",
        "wght_sg = np.ones(MET_sg.shape) * x_sg * lumi/ tot_evt"
      ],
      "execution_count": 12,
      "outputs": []
    },
    {
      "cell_type": "code",
      "metadata": {
        "colab": {
          "base_uri": "https://localhost:8080/",
          "height": 556
        },
        "id": "1a0NpNWnn8NK",
        "outputId": "c6332bc0-4ab5-458a-e19a-f830f75b4a96"
      },
      "source": [
        "## 그림 그리기\r\n",
        "plt.style.use(hep.style.ROOT)\r\n",
        "plt.rcParams[\"figure.figsize\"] = (8,8)\r\n",
        "plt.xlim(0,500)\r\n",
        "plt.ylim(0.0000001, 100000000)\r\n",
        "plt.yscale('log')\r\n",
        "plt.rc('xtick',labelsize=10)\r\n",
        "plt.rc('ytick',labelsize=10)\r\n",
        "\r\n",
        "## 채워진 히스토그램\r\n",
        "plt.hist(np.clip(MET_dy,0,500,out=MET_dy), range=(0,500),weights=wght_dy, bins=10, label='Drell-Yan',color='dodgerblue')\r\n",
        "\r\n",
        "## 겉선따기\r\n",
        "plt.hist(np.clip(MET_dy,0,500,out=MET_dy), range=(0,500),weights=wght_dy, bins=10,color='black', histtype='step')\r\n",
        "\r\n",
        "## 속이빈 강정\r\n",
        "plt.hist(np.clip(MET_sg,0,500,out=MET_sg), range=(0,500),weights=wght_sg, bins=10, label='Signal',color='red',histtype='step')\r\n",
        "\r\n",
        "## 제목 만들기\r\n",
        "plt.title(\"$\\sqrt{s}$ = 13 TeV, L = 150 fb$^{-1}$\", loc='left',fontsize=15)\r\n",
        "plt.xlabel(\"$E$$^{miss}_{T}$ [GeV]\", fontsize=15)\r\n",
        "plt.ylabel(\"Expected Number of Events | 50 GeV\", fontsize=15)\r\n",
        "plt.legend()\r\n",
        "plt.minorticks_on()"
      ],
      "execution_count": 13,
      "outputs": [
        {
          "output_type": "stream",
          "text": [
            "findfont: Font family ['cursive'] not found. Falling back to DejaVu Sans.\n"
          ],
          "name": "stderr"
        },
        {
          "output_type": "display_data",
          "data": {
            "image/png": "[encoded data removed]",
            "text/plain": [
              "<Figure size 576x576 with 1 Axes>"
            ]
          },
          "metadata": {
            "tags": [],
            "needs_background": "light"
          }
        }
      ]
    },
    {
      "cell_type": "code",
      "metadata": {
        "id": "VLijQ7VopXAD"
      },
      "source": [
        ""
      ],
      "execution_count": null,
      "outputs": []
    }
  ]
}